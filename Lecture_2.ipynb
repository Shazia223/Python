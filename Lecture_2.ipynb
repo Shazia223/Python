{
  "nbformat": 4,
  "nbformat_minor": 0,
  "metadata": {
    "colab": {
      "provenance": [],
      "authorship_tag": "ABX9TyNOvBUP2szDFMb60IoTgu43",
      "include_colab_link": true
    },
    "kernelspec": {
      "name": "python3",
      "display_name": "Python 3"
    },
    "language_info": {
      "name": "python"
    }
  },
  "cells": [
    {
      "cell_type": "markdown",
      "metadata": {
        "id": "view-in-github",
        "colab_type": "text"
      },
      "source": [
        "<a href=\"https://colab.research.google.com/github/Shazia223/Python/blob/main/Lecture_2.ipynb\" target=\"_parent\"><img src=\"https://colab.research.google.com/assets/colab-badge.svg\" alt=\"Open In Colab\"/></a>"
      ]
    },
    {
      "cell_type": "markdown",
      "source": [
        "**Variable**"
      ],
      "metadata": {
        "id": "FxP_vijoPVGz"
      }
    },
    {
      "cell_type": "code",
      "execution_count": null,
      "metadata": {
        "colab": {
          "base_uri": "https://localhost:8080/"
        },
        "id": "XyMOnba7PDGj",
        "outputId": "004d1298-53c6-4e21-cf6f-70a6933fa2a8"
      },
      "outputs": [
        {
          "output_type": "stream",
          "name": "stdout",
          "text": [
            "5\n",
            "Shazia\n"
          ]
        }
      ],
      "source": [
        "x = 5\n",
        "y = \"Shazia\"\n",
        "\n",
        "print(x)\n",
        "print(y)"
      ]
    },
    {
      "cell_type": "code",
      "source": [
        "x = 10\n",
        "x = \"Shazia\"\n",
        "\n",
        "print(x)"
      ],
      "metadata": {
        "colab": {
          "base_uri": "https://localhost:8080/"
        },
        "id": "j2vuElTkQLcH",
        "outputId": "4bc1876c-3d23-44cc-ef82-cd3f16dcb8e4"
      },
      "execution_count": null,
      "outputs": [
        {
          "output_type": "stream",
          "name": "stdout",
          "text": [
            "Shazia\n"
          ]
        }
      ]
    },
    {
      "cell_type": "code",
      "source": [
        "x = str(22)\n",
        "y = int(22)\n",
        "z = float(22)\n",
        "\n",
        "print(x)\n",
        "print(y)\n",
        "print(z)"
      ],
      "metadata": {
        "colab": {
          "base_uri": "https://localhost:8080/"
        },
        "id": "CPx1UEvFQZmf",
        "outputId": "47017578-673d-4d1f-cde9-24c9d7e4eb9f"
      },
      "execution_count": null,
      "outputs": [
        {
          "output_type": "stream",
          "name": "stdout",
          "text": [
            "22\n",
            "22\n",
            "22.0\n"
          ]
        }
      ]
    },
    {
      "cell_type": "code",
      "source": [
        "a = 5\n",
        "b = \"Shazia\"\n",
        "c = 20.5\n",
        "\n",
        "print(type(a))\n",
        "print(type(b))\n",
        "print(type(c))"
      ],
      "metadata": {
        "colab": {
          "base_uri": "https://localhost:8080/"
        },
        "id": "aJ0sJ1ESRxaS",
        "outputId": "3458c84a-cf2c-4b70-a6bb-a5564eab3293"
      },
      "execution_count": null,
      "outputs": [
        {
          "output_type": "stream",
          "name": "stdout",
          "text": [
            "<class 'int'>\n",
            "<class 'str'>\n",
            "<class 'float'>\n"
          ]
        }
      ]
    },
    {
      "cell_type": "markdown",
      "source": [
        "**Single, Double and Triple quotes**"
      ],
      "metadata": {
        "id": "8fcjZf0SS_aq"
      }
    },
    {
      "cell_type": "code",
      "source": [
        "x = 'Shazia'\n",
        "y = \"Risha\"\n",
        "z = \"\"\"Eshal\"\"\"\n",
        "\n",
        "print(x)\n",
        "print(y)\n",
        "print(z)"
      ],
      "metadata": {
        "colab": {
          "base_uri": "https://localhost:8080/"
        },
        "id": "6CEqSV5YSD1t",
        "outputId": "1aa59f73-7f2e-4650-9003-ba17eb600762"
      },
      "execution_count": null,
      "outputs": [
        {
          "output_type": "stream",
          "name": "stdout",
          "text": [
            "Shazia\n",
            "Risha\n",
            "Eshal\n"
          ]
        }
      ]
    },
    {
      "cell_type": "markdown",
      "source": [
        "**Case sensitive**"
      ],
      "metadata": {
        "id": "JrXIGsG8TmZa"
      }
    },
    {
      "cell_type": "code",
      "source": [
        "b = 20\n",
        "B = 45\n",
        "\n",
        "print(b)\n",
        "print(B)"
      ],
      "metadata": {
        "colab": {
          "base_uri": "https://localhost:8080/"
        },
        "id": "pWZ6vbpATrQE",
        "outputId": "46b44ac7-b33f-4dab-ad0a-a74d52f8f4cc"
      },
      "execution_count": null,
      "outputs": [
        {
          "output_type": "stream",
          "name": "stdout",
          "text": [
            "20\n",
            "45\n"
          ]
        }
      ]
    },
    {
      "cell_type": "markdown",
      "source": [
        "**Rules for Variable**"
      ],
      "metadata": {
        "id": "coJJI7BLgr1G"
      }
    },
    {
      "cell_type": "code",
      "source": [
        " myvar = \"Shazia\"\n",
        "my_var = \"Shazia\"\n",
        "_my_var = \"Naila\"\n",
        "myVar = \"Misbah\"\n",
        "MYVAR = \"Rimsha\"\n",
        "myvar2 = \"Eshmal\"\n",
        "\n",
        "print(myvar)\n",
        "print(my_var)\n",
        "print(_my_var)\n",
        "print(myVar)\n",
        "print(MYVAR)\n",
        "print(myvar2)"
      ],
      "metadata": {
        "colab": {
          "base_uri": "https://localhost:8080/"
        },
        "id": "MN0N3HVFgwQ7",
        "outputId": "6be3edd2-654e-430b-8b6f-ae74bbd969cb"
      },
      "execution_count": 2,
      "outputs": [
        {
          "output_type": "stream",
          "name": "stdout",
          "text": [
            "Shazia\n",
            "Shazia\n",
            "Naila\n",
            "Misbah\n",
            "Rimsha\n",
            "Eshmal\n"
          ]
        }
      ]
    },
    {
      "cell_type": "markdown",
      "source": [
        "**Multiple Values in one line**"
      ],
      "metadata": {
        "id": "75FHxbZzhATQ"
      }
    },
    {
      "cell_type": "code",
      "source": [
        " x, y, z = \"Eshmal\", \"Shazia\", \"Rimsha\"\n",
        "\n",
        "print(x)\n",
        "print(y)\n",
        "print(z)\n",
        ""
      ],
      "metadata": {
        "colab": {
          "base_uri": "https://localhost:8080/"
        },
        "id": "3Vt98PzUhHc5",
        "outputId": "63a5bbcd-b9c3-43e3-b5b1-03f0c8bceeaa"
      },
      "execution_count": 3,
      "outputs": [
        {
          "output_type": "stream",
          "name": "stdout",
          "text": [
            "Eshmal\n",
            "Shazia\n",
            "Rimsha\n"
          ]
        }
      ]
    },
    {
      "cell_type": "markdown",
      "source": [
        "**print function is used to output function**"
      ],
      "metadata": {
        "id": "OiVv53kvhVJP"
      }
    },
    {
      "cell_type": "code",
      "source": [
        "x = \"Python is\"\n",
        "y = \"a\"\n",
        "z = \"programming language\"\n",
        "\n",
        "print(x, y, z)"
      ],
      "metadata": {
        "colab": {
          "base_uri": "https://localhost:8080/"
        },
        "id": "LyLMGZ-zhlSJ",
        "outputId": "eb16a742-deac-49de-b77f-7af6108f604d"
      },
      "execution_count": 4,
      "outputs": [
        {
          "output_type": "stream",
          "name": "stdout",
          "text": [
            "Python is a programming language\n"
          ]
        }
      ]
    },
    {
      "cell_type": "markdown",
      "source": [
        "\n",
        "**Global variables can be used by everyone, both inside of functions and outside**"
      ],
      "metadata": {
        "id": "HE5xj3rwhxrL"
      }
    },
    {
      "cell_type": "code",
      "source": [
        "x = \"awesome\"\n",
        "\n",
        "def myfunc():\n",
        "  x = \"Good\"\n",
        "  print(\"Python is \" + x)\n",
        "\n",
        "myfunc()\n",
        "\n",
        "print(\"Python is \" + x)\n",
        "\n",
        "#another example\n",
        "\n",
        "def myfunc():\n",
        "  global x\n",
        "  x = \"Interesting\"\n",
        "\n",
        "myfunc()\n",
        "\n",
        "print(\"Python is \" + x)"
      ],
      "metadata": {
        "colab": {
          "base_uri": "https://localhost:8080/"
        },
        "id": "OImXCJEsh0Dh",
        "outputId": "48c3dcff-06ad-4a3a-fe61-7a0905b3136a"
      },
      "execution_count": 6,
      "outputs": [
        {
          "output_type": "stream",
          "name": "stdout",
          "text": [
            "Python is Good\n",
            "Python is awesome\n",
            "Python is Interesting\n"
          ]
        }
      ]
    }
  ]
}