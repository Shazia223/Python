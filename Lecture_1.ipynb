{
  "nbformat": 4,
  "nbformat_minor": 0,
  "metadata": {
    "colab": {
      "provenance": [],
      "authorship_tag": "ABX9TyMCCpHmUCPmgL81K9p3InrU",
      "include_colab_link": true
    },
    "kernelspec": {
      "name": "python3",
      "display_name": "Python 3"
    },
    "language_info": {
      "name": "python"
    }
  },
  "cells": [
    {
      "cell_type": "markdown",
      "metadata": {
        "id": "view-in-github",
        "colab_type": "text"
      },
      "source": [
        "<a href=\"https://colab.research.google.com/github/Shazia223/Python/blob/main/Lecture_1.ipynb\" target=\"_parent\"><img src=\"https://colab.research.google.com/assets/colab-badge.svg\" alt=\"Open In Colab\"/></a>"
      ]
    },
    {
      "cell_type": "code",
      "source": [
        "print(\"Hello Word\")"
      ],
      "metadata": {
        "colab": {
          "base_uri": "https://localhost:8080/"
        },
        "id": "BOx6HCUuG07j",
        "outputId": "14092f0e-6bba-403f-d134-ba44cdc8c7e3"
      },
      "execution_count": 2,
      "outputs": [
        {
          "output_type": "stream",
          "name": "stdout",
          "text": [
            "Hello Word\n"
          ]
        }
      ]
    },
    {
      "cell_type": "markdown",
      "source": [
        "**Variable And Data Type**"
      ],
      "metadata": {
        "id": "OgzVwx0QG74W"
      }
    },
    {
      "cell_type": "code",
      "execution_count": 1,
      "metadata": {
        "colab": {
          "base_uri": "https://localhost:8080/"
        },
        "id": "cwS2SlLX5r0x",
        "outputId": "651dbbee-5c59-44ec-cd28-ef7e3f2b438a"
      },
      "outputs": [
        {
          "output_type": "stream",
          "name": "stdout",
          "text": [
            "Name= Shazia\n",
            "Age= 22\n",
            "Height= 5.2\n",
            "Is_student= True\n"
          ]
        }
      ],
      "source": [
        "Name= \"Shazia\"\n",
        "Age= 22\n",
        "Height= 5.2\n",
        "Is_student= True\n",
        "\n",
        "print( \"Name=\",Name)\n",
        "print(\"Age=\" ,Age)\n",
        "print(\"Height=\" ,Height)\n",
        "print(\"Is_student=\" ,Is_student)"
      ]
    },
    {
      "cell_type": "markdown",
      "source": [
        "**Operators**"
      ],
      "metadata": {
        "id": "3x8X4kzEHSdx"
      }
    },
    {
      "cell_type": "code",
      "source": [
        "x = 25\n",
        "y = 30\n",
        "\n",
        "print(\"Addition= \", x+y)\n",
        "print(\"Subtraction= \",x-y)\n",
        "print(\"Multiplication= \", x*y)\n",
        "print(\"Division= \", x/y)\n",
        "print(\"Modulus= \", x%y)"
      ],
      "metadata": {
        "colab": {
          "base_uri": "https://localhost:8080/"
        },
        "id": "wtQXH38KHZpa",
        "outputId": "4e186d3b-0ba3-4106-b5dd-dd5e8a7a7765"
      },
      "execution_count": 8,
      "outputs": [
        {
          "output_type": "stream",
          "name": "stdout",
          "text": [
            "Addition=  55\n",
            "Subtraction=  -5\n",
            "Multiplication=  750\n",
            "Division=  0.8333333333333334\n",
            "Modulus=  25\n"
          ]
        }
      ]
    },
    {
      "cell_type": "markdown",
      "source": [
        "**Comparisons**"
      ],
      "metadata": {
        "id": "znS9Jbk5I1XK"
      }
    },
    {
      "cell_type": "code",
      "source": [
        "x = 45\n",
        "y = 40\n",
        "\n",
        "print(x==y)\n",
        "print(x!=y)\n",
        "print(x>y)\n",
        "print(x<y)\n",
        "print(x<=y)\n",
        "print(x>=y)"
      ],
      "metadata": {
        "colab": {
          "base_uri": "https://localhost:8080/"
        },
        "id": "omPqKaphI5BO",
        "outputId": "b1d91e2d-f12c-4555-df2f-3ca177471a94"
      },
      "execution_count": 10,
      "outputs": [
        {
          "output_type": "stream",
          "name": "stdout",
          "text": [
            "False\n",
            "True\n",
            "True\n",
            "False\n",
            "False\n",
            "True\n"
          ]
        }
      ]
    }
  ]
}